{
 "cells": [
  {
   "cell_type": "code",
   "execution_count": 60,
   "id": "1a0e25ed",
   "metadata": {},
   "outputs": [],
   "source": [
    "from numba import jit, vectorize, cuda\n",
    "from math import sqrt, erf\n",
    "import numpy as np\n",
    "import time\n",
    "\n",
    "threshold = 0.\n",
    "SQRT1_2 = 1.0/sqrt(2.)\n",
    "\n",
    "\n",
    "\n",
    "from scipy.stats import norm\n",
    "\n",
    "def get_eibv_from_cpu(mu, sigma):\n",
    "      p = norm.cdf(threshold, mu, sigma)\n",
    "      bv = p * (1-p)\n",
    "      ibv = np.sum(bv)\n",
    "      return ibv\n",
    "\n",
    "\n",
    "vectorize(['float32(float32, float32)'], target='cuda')\n",
    "def get_eibv_from_para(mu, sigma):\n",
    "  p = norm.cdf(threshold, mu, sigma)\n",
    "  bv = p*(1-p)\n",
    "  ibv = np.sum(bv)\n",
    "  return ibv\n",
    "\n",
    "\n",
    "@cuda.jit(device=True)\n",
    "def get_cdf_gpu(mu, sigma):\n",
    "  temp = (threshold - mu)*SQRT1_2 / sigma\n",
    "  cdf = .5 * (1.+erf(temp))\n",
    "  return cdf\n",
    "\n",
    "@cuda.jit\n",
    "def get_ibv_from_gpu(Mu, Sigma, IBV, EIBV):\n",
    "    i = cuda.grid(1)\n",
    "    IBV[i] = get_cdf_gpu(Mu[i], Sigma[i])*(1-get_cdf_gpu(Mu[i], Sigma[i]))\n",
    "    cuda.atomic.add(EIBV, 0, IBV[i])\n",
    "\n",
    "#   start = cuda.grid(1)\n",
    "#   stride = cuda.gridsize(1)\n",
    "#   for i in range(start, Mu.shape[0], stride):\n",
    "#     IBV[i] = get_cdf_gpu(Mu[i], Sigma[i])*(1-get_cdf_gpu(Mu[i], Sigma[i]))\n",
    "#     cuda.atomic.add(EIBV, 0, IBV[i])\n",
    "\n",
    "def get_eibv_from_gpu(d_mu, sigma, d_ibv, d_eibv):\n",
    "  # d_mu = cuda.to_device(mu)\n",
    "  d_sigma = cuda.to_device(sigma)\n",
    "  # d_ibv = cuda.device_array_like(d_mu)\n",
    "  get_ibv_from_gpu[40, 512](d_mu, d_sigma, d_ibv, d_eibv)\n",
    "  eibv = d_eibv.copy_to_host()\n",
    "  return eibv\n",
    "\n"
   ]
  },
  {
   "cell_type": "code",
   "execution_count": 61,
   "id": "895f2f27",
   "metadata": {},
   "outputs": [
    {
     "name": "stdout",
     "output_type": "stream",
     "text": [
      "Time consumed:  0.0017528533935546875\n",
      "Time consumed:  0.0024650096893310547\n",
      "Time consumed:  0.11406946182250977\n"
     ]
    }
   ],
   "source": [
    "N = 20000\n",
    "mu = np.linspace(-3, 3, N)\n",
    "sigma = np.ones_like(mu)\n",
    "\n",
    "\n",
    "t1 = time.time()\n",
    "ibv1 = get_eibv_from_cpu(mu, sigma)\n",
    "t2 = time.time()\n",
    "print(\"Time consumed: \", t2 - t1)\n",
    "\n",
    "t1 = time.time()\n",
    "ibv2 = get_eibv_from_para(mu.astype(np.float32), sigma.astype(np.float32))\n",
    "t2 = time.time()\n",
    "print(\"Time consumed: \", t2 - t1)\n",
    "\n",
    "d_mu = cuda.to_device(mu)\n",
    "d_ibv = cuda.device_array_like(d_mu)\n",
    "d_eibv = cuda.to_device(np.array([0]).astype(np.float32))\n",
    "t1 = time.time()\n",
    "ibv4 = get_eibv_from_gpu(d_mu, sigma, d_ibv, d_eibv)\n",
    "t2 = time.time()\n",
    "print(\"Time consumed: \", t2 - t1)\n"
   ]
  },
  {
   "cell_type": "code",
   "execution_count": 53,
   "id": "0d6d31b4",
   "metadata": {},
   "outputs": [
    {
     "name": "stdout",
     "output_type": "stream",
     "text": [
      "1877.9934719233004 1877.9934718831166 [1877.9939]\n"
     ]
    }
   ],
   "source": [
    "print(ibv1, ibv2, ibv4)"
   ]
  },
  {
   "cell_type": "code",
   "execution_count": null,
   "id": "2a6d981b",
   "metadata": {},
   "outputs": [],
   "source": []
  }
 ],
 "metadata": {
  "kernelspec": {
   "display_name": "Python 3 (ipykernel)",
   "language": "python",
   "name": "python3"
  },
  "language_info": {
   "codemirror_mode": {
    "name": "ipython",
    "version": 3
   },
   "file_extension": ".py",
   "mimetype": "text/x-python",
   "name": "python",
   "nbconvert_exporter": "python",
   "pygments_lexer": "ipython3",
   "version": "3.9.7"
  }
 },
 "nbformat": 4,
 "nbformat_minor": 5
}
